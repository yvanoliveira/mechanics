{
 "cells": [
  {
   "cell_type": "code",
   "execution_count": 1,
   "metadata": {},
   "outputs": [],
   "source": [
    "import warnings\n",
    "warnings.filterwarnings(\"ignore\")"
   ]
  },
  {
   "cell_type": "code",
   "execution_count": 2,
   "metadata": {},
   "outputs": [
    {
     "data": {
      "text/html": [
       "<h2><left>SOFTWARE PARA AUXÍLIO AO PROJETO DE MECANISMOS DE 4 BARRAS</center></h2>"
      ],
      "text/plain": [
       "<IPython.core.display.HTML object>"
      ]
     },
     "metadata": {},
     "output_type": "display_data"
    }
   ],
   "source": [
    "from IPython.core.display import display, HTML\n",
    "display(HTML('<h2><left>SOFTWARE PARA AUXÍLIO AO PROJETO DE MECANISMOS DE 4 BARRAS</center></h2>'))"
   ]
  },
  {
   "cell_type": "code",
   "execution_count": 3,
   "metadata": {},
   "outputs": [
    {
     "data": {
      "text/html": [
       "<h5><left>Autor: Yvan Pereira de Oliveira</center></h5>"
      ],
      "text/plain": [
       "<IPython.core.display.HTML object>"
      ]
     },
     "metadata": {},
     "output_type": "display_data"
    }
   ],
   "source": [
    "display(HTML('<h5><left>Autor: Yvan Pereira de Oliveira</center></h5>'))"
   ]
  },
  {
   "cell_type": "code",
   "execution_count": 4,
   "metadata": {},
   "outputs": [],
   "source": [
    "# 4.1  EQUACIONAMENTO DINÂMICO"
   ]
  },
  {
   "cell_type": "code",
   "execution_count": 5,
   "metadata": {},
   "outputs": [],
   "source": [
    "#Abordagem vetorial e com números complexos:"
   ]
  },
  {
   "cell_type": "code",
   "execution_count": 6,
   "metadata": {},
   "outputs": [],
   "source": [
    "## 4.1.1 CINEMÁTICA"
   ]
  },
  {
   "cell_type": "code",
   "execution_count": 7,
   "metadata": {},
   "outputs": [],
   "source": [
    "### 4.1.1.1 \tSolução Analítica para Análise de Posição"
   ]
  },
  {
   "cell_type": "code",
   "execution_count": 8,
   "metadata": {},
   "outputs": [],
   "source": [
    "#Começamos importando as bibliotecas que serão utilizadas no desenvolvimento do programa."
   ]
  },
  {
   "cell_type": "code",
   "execution_count": 9,
   "metadata": {},
   "outputs": [],
   "source": [
    "import sympy as sy\n",
    "import sympy.physics.mechanics as ps\n",
    "from sympy import *\n",
    "import numpy as ny"
   ]
  },
  {
   "cell_type": "code",
   "execution_count": 10,
   "metadata": {},
   "outputs": [],
   "source": [
    "#Declaramos as variáveis simbólicas:"
   ]
  },
  {
   "cell_type": "code",
   "execution_count": 11,
   "metadata": {},
   "outputs": [],
   "source": [
    "a,b,c,d = symbols('a b c d')\n",
    "theta2 = symbols('theta2')"
   ]
  },
  {
   "cell_type": "code",
   "execution_count": 12,
   "metadata": {},
   "outputs": [],
   "source": [
    "#As projeções dos elos nos eixos x e y são:"
   ]
  },
  {
   "cell_type": "code",
   "execution_count": 13,
   "metadata": {},
   "outputs": [],
   "source": [
    "Ax = a*sy.cos(theta2)\n",
    "#Ax = symbols('A_x')\n",
    "#Eq(Ax,a*sy.cos(theta2))\n",
    "#Ax"
   ]
  },
  {
   "cell_type": "code",
   "execution_count": 14,
   "metadata": {},
   "outputs": [],
   "source": [
    "Ay = a*sy.sin(theta2)\n",
    "#Ay = symbols('A_y')\n",
    "#Eq(Ay,a*sy.sin(theta2))\n",
    "#Ay"
   ]
  },
  {
   "cell_type": "code",
   "execution_count": 15,
   "metadata": {},
   "outputs": [],
   "source": [
    "#Escrevendo as equações dos círculos deslocados, com centro A e O_4, como demonstrado na análise gráfica, tem-se:\n",
    "#b2 e c2 são os raios dos círculos"
   ]
  },
  {
   "cell_type": "code",
   "execution_count": 16,
   "metadata": {},
   "outputs": [],
   "source": [
    "Bx, By = symbols('B_x B_y')"
   ]
  },
  {
   "cell_type": "code",
   "execution_count": 17,
   "metadata": {},
   "outputs": [],
   "source": [
    "b2 = (Bx - Ax)**2 + (By - Ay)**2\n",
    "Eq1 = Eq(b**2,b2)\n",
    "Eq1 = b2 - b**2\n",
    "#Eq1 = equação do primeiro círculo deslocado"
   ]
  },
  {
   "cell_type": "code",
   "execution_count": 18,
   "metadata": {},
   "outputs": [],
   "source": [
    "#Eq1.expand()"
   ]
  },
  {
   "cell_type": "code",
   "execution_count": 19,
   "metadata": {},
   "outputs": [],
   "source": [
    "c2 = (Bx - d)**2 + (By)**2\n",
    "Eq2 = Eq(c**2, c2)\n",
    "Eq2 = c2 - c**2\n",
    "#Eq2 = equação do segundo círculo deslocado"
   ]
  },
  {
   "cell_type": "code",
   "execution_count": 20,
   "metadata": {},
   "outputs": [],
   "source": [
    "Eq3 = Eq1 - Eq2\n",
    "#sy.expand(Eq3)"
   ]
  },
  {
   "cell_type": "code",
   "execution_count": 21,
   "metadata": {},
   "outputs": [],
   "source": [
    "sol_Bx = sy.solve(Eq3,Bx)[0]\n",
    "#Eq(Bx,sol_Bx)"
   ]
  },
  {
   "cell_type": "code",
   "execution_count": 22,
   "metadata": {},
   "outputs": [],
   "source": [
    "Eq4 = Eq2.subs(Bx,sol_Bx)\n",
    "#Eq(Bx,Eq4)"
   ]
  },
  {
   "cell_type": "code",
   "execution_count": 23,
   "metadata": {},
   "outputs": [],
   "source": [
    "#Para B_y, por se tratar de uma equação de segundo grau, há duas soluções possíveis."
   ]
  },
  {
   "cell_type": "code",
   "execution_count": 24,
   "metadata": {},
   "outputs": [],
   "source": [
    "sol_By = sy.solve(Eq4,By)\n",
    "#sol_By"
   ]
  },
  {
   "cell_type": "code",
   "execution_count": 25,
   "metadata": {},
   "outputs": [],
   "source": [
    "By1 = sol_By[0]\n",
    "#By1 = symbols('B_y1')\n",
    "#Eq(By1,sol_By[0])"
   ]
  },
  {
   "cell_type": "code",
   "execution_count": 26,
   "metadata": {},
   "outputs": [],
   "source": [
    "By2 = sol_By[1]\n",
    "#By2 = symbols('B_y2')\n",
    "#Eq(By2,sol_By[1])"
   ]
  },
  {
   "cell_type": "code",
   "execution_count": 27,
   "metadata": {},
   "outputs": [],
   "source": [
    "#Agora, resolvendo B_x para as duas soluções de B_y encontradas:"
   ]
  },
  {
   "cell_type": "code",
   "execution_count": 28,
   "metadata": {},
   "outputs": [],
   "source": [
    "Bx1 = sol_Bx.subs(By,By1)\n",
    "#Bx1 = symbols('B_x1')\n",
    "#Eq(Bx1,sol_Bx.subs(By,By1))"
   ]
  },
  {
   "cell_type": "code",
   "execution_count": 29,
   "metadata": {},
   "outputs": [],
   "source": [
    "Bx2 = sol_Bx.subs(By,By2)\n",
    "#Bx2 = symbols('B_x2')\n",
    "#Eq(Bx2,sol_Bx.subs(By,By2))"
   ]
  },
  {
   "cell_type": "code",
   "execution_count": 30,
   "metadata": {},
   "outputs": [],
   "source": [
    "dic1 = {a:10,b:20,c:10,d:20,theta2:sy.pi/4}"
   ]
  },
  {
   "cell_type": "markdown",
   "metadata": {},
   "source": [
    "Coornedadas do eixo x nos pontos $O_2$, $A$, $B$ e $O_4$, respectivamente:"
   ]
  },
  {
   "cell_type": "code",
   "execution_count": 31,
   "metadata": {},
   "outputs": [
    {
     "data": {
      "text/plain": [
       "[0, 7.07106781186548, 27.0710678118655, 20.0000000000000]"
      ]
     },
     "execution_count": 31,
     "metadata": {},
     "output_type": "execute_result"
    }
   ],
   "source": [
    "#Coornedadas do eixo x nos pontos O_2, A, B e O_4:\n",
    "X = [0,Ax.subs(dic1).evalf(),Bx1.subs(dic1).evalf(),d.subs(dic1).evalf()]\n",
    "X"
   ]
  },
  {
   "cell_type": "markdown",
   "metadata": {},
   "source": [
    "Coornedadas do eixo y nos pontos $O_2$, $A$, $B$ e $O_4$, respectivamente:"
   ]
  },
  {
   "cell_type": "code",
   "execution_count": 32,
   "metadata": {},
   "outputs": [
    {
     "data": {
      "text/plain": [
       "[0, 7.07106781186548, 7.07106781186548, 0]"
      ]
     },
     "execution_count": 32,
     "metadata": {},
     "output_type": "execute_result"
    }
   ],
   "source": [
    "#Coornedadas do eixo y nos pontos O_2, A, B e O_4:\n",
    "Y = [0,Ay.subs(dic1).evalf(),By1.subs(dic1).evalf(),0]\n",
    "Y"
   ]
  },
  {
   "cell_type": "code",
   "execution_count": 33,
   "metadata": {},
   "outputs": [],
   "source": [
    "#import matplotlib.pyplot as plt\n",
    "#plt.figure()\n",
    "#plt.plot(X,Y,'-o')\n",
    "#plt.title('Plotagem do mecanismo de 4 barras')\n",
    "#plt.show()"
   ]
  },
  {
   "cell_type": "code",
   "execution_count": 110,
   "metadata": {},
   "outputs": [
    {
     "data": {
      "image/png": "[encoded data removed]",
      "text/plain": [
       "<Figure size 432x288 with 1 Axes>"
      ]
     },
     "metadata": {
      "needs_background": "light"
     },
     "output_type": "display_data"
    },
    {
     "name": "stdout",
     "output_type": "stream",
     "text": [
      "Mecanismo Grashof\n"
     ]
    }
   ],
   "source": [
    "elo_maior = dic1[max(dic1, key=dic1.get)]\n",
    "#elo_maior = dic1[max(dic1, key=dic1.get('a','b','c','d'))]\n",
    "elo_menor = dic1[min(dic1, key=dic1.get)]\n",
    "soma_elos = dic1[a]+dic1[b]+dic1[c]+dic1[d]\n",
    "\n",
    "import matplotlib.pyplot as plt\n",
    "plt.figure()\n",
    "plt.plot(X,Y,'-o')\n",
    "plt.title('Plotagem do mecanismo de 4 barras')\n",
    "#plt.xlim([-10,30])\n",
    "#plt.ylim([-10,20])\n",
    "plt.grid(False)\n",
    "plt.gca().set_aspect('auto', adjustable='box', anchor='SW')\n",
    "plt.show()\n",
    "if (elo_maior+elo_menor)<(soma_elos-(elo_maior+elo_menor)):\n",
    "    print('Mecanismo Grashof')\n",
    "else:\n",
    "    print('Mecanismo Não-Grashof')"
   ]
  },
  {
   "cell_type": "code",
   "execution_count": 35,
   "metadata": {},
   "outputs": [],
   "source": [
    "### 4.1.1.1 \tSolução Analítica para Análise de Velocidade"
   ]
  },
  {
   "cell_type": "code",
   "execution_count": 36,
   "metadata": {
    "id": "qScGcko1T4tT"
   },
   "outputs": [],
   "source": [
    "#Foi descoberto anteriormente na análise de posição os valores de $θ_2$, $θ_3$ e $θ_4$, assim como o $w_2$. Se sabe também os comprimentos dos elos $R_1$, $R_2$, $R_3$ e $R_4$."
   ]
  },
  {
   "cell_type": "code",
   "execution_count": 37,
   "metadata": {
    "id": "QWSJumfyT4u9"
   },
   "outputs": [],
   "source": [
    "#Para descobrirmos então os valores de $w_3$ e $w_4$, assim também como as velocidades das juntas, serão realizados os procedimentos abaixo como segue."
   ]
  },
  {
   "cell_type": "code",
   "execution_count": 38,
   "metadata": {},
   "outputs": [
    {
     "data": {
      "image/png": "[encoded data removed]",
      "text/plain": [
       "<PIL.Image.Image image mode=RGB size=710x500 at 0x1DE06677B20>"
      ]
     },
     "execution_count": 38,
     "metadata": {},
     "output_type": "execute_result"
    }
   ],
   "source": [
    "from PIL import Image\n",
    "\n",
    "img = Image.open('img.jpg')\n",
    "width = 710\n",
    "height = 500\n",
    "img_resized = img.resize((width, height))\n",
    "img_resized\n",
    "#img_resized.save('img_redimensionada.png')"
   ]
  },
  {
   "cell_type": "code",
   "execution_count": 39,
   "metadata": {
    "id": "tNiRJpMaT4ve"
   },
   "outputs": [],
   "source": [
    "#Desenhando e analisando a malha fechada do nosso mecanismo, concluímos que:"
   ]
  },
  {
   "cell_type": "code",
   "execution_count": 40,
   "metadata": {
    "id": "ZfMyKEOvT4vf"
   },
   "outputs": [],
   "source": [
    "#$R_2 + R_3 - R_4 - R_1 = 0$"
   ]
  },
  {
   "cell_type": "code",
   "execution_count": 41,
   "metadata": {
    "id": "6WfqJCPMT4vf"
   },
   "outputs": [],
   "source": [
    "#Sendo esta a equação vetorial da nossa malha fechada."
   ]
  },
  {
   "cell_type": "code",
   "execution_count": 42,
   "metadata": {
    "id": "U8PSWA2CT4vg"
   },
   "outputs": [],
   "source": [
    "#Iremos então converter os vetores dos comprimentos dos elos para a forma de números complexos, representado-os com a, b, c, d, sendo estes valores escalares."
   ]
  },
  {
   "cell_type": "code",
   "execution_count": 43,
   "metadata": {
    "id": "Ih1Y7t8gT4vl"
   },
   "outputs": [],
   "source": [
    "#Declaramos as variáveis simbólicas:"
   ]
  },
  {
   "cell_type": "code",
   "execution_count": 44,
   "metadata": {
    "id": "qnkZIK8WT4vm"
   },
   "outputs": [],
   "source": [
    "a,b,c,d,t,theta1 = symbols('a b c d t theta1')"
   ]
  },
  {
   "cell_type": "code",
   "execution_count": 45,
   "metadata": {},
   "outputs": [],
   "source": [
    "#Declaramos as seguintes variáveis em função do tempo:"
   ]
  },
  {
   "cell_type": "code",
   "execution_count": 46,
   "metadata": {},
   "outputs": [],
   "source": [
    "theta2 = Function('theta2')(t)\n",
    "theta3 = Function('theta3')(t)\n",
    "theta4 = Function('theta4')(t)"
   ]
  },
  {
   "cell_type": "code",
   "execution_count": 47,
   "metadata": {},
   "outputs": [],
   "source": [
    "#V_A,V_BA,V_B = symbols('V_A V_BA V_B')"
   ]
  },
  {
   "cell_type": "code",
   "execution_count": 48,
   "metadata": {},
   "outputs": [],
   "source": [
    "from ipywidgets import interact, interactive, fixed, interact_manual\n",
    "import ipywidgets as widgets"
   ]
  },
  {
   "cell_type": "code",
   "execution_count": 49,
   "metadata": {},
   "outputs": [],
   "source": [
    "# Imports for JupyterLite\n",
    "try:\n",
    "    import piplite\n",
    "    await piplite.install(['ipywidgets'])\n",
    "except ImportError:\n",
    "    pass"
   ]
  },
  {
   "cell_type": "code",
   "execution_count": 50,
   "metadata": {},
   "outputs": [],
   "source": [
    "from IPython.display import display\n",
    "def f(a, b, c, d):\n",
    "    display()\n",
    "    #return a+b+c+d"
   ]
  },
  {
   "cell_type": "code",
   "execution_count": 51,
   "metadata": {},
   "outputs": [],
   "source": [
    "elos = interactive(f, a=1000, b=1000, c=1000, d=1000)"
   ]
  },
  {
   "cell_type": "code",
   "execution_count": 52,
   "metadata": {},
   "outputs": [],
   "source": [
    "#elos.children"
   ]
  },
  {
   "cell_type": "code",
   "execution_count": 53,
   "metadata": {},
   "outputs": [
    {
     "data": {
      "application/vnd.jupyter.widget-view+json": {
       "model_id": "2b98d8fe4be647c2b30420bbee824282",
       "version_major": 2,
       "version_minor": 0
      },
      "text/plain": [
       "interactive(children=(IntSlider(value=1000, description='a', max=3000, min=-1000), IntSlider(value=1000, descr…"
      ]
     },
     "metadata": {},
     "output_type": "display_data"
    }
   ],
   "source": [
    "display(elos)"
   ]
  },
  {
   "cell_type": "code",
   "execution_count": 54,
   "metadata": {},
   "outputs": [],
   "source": [
    "#def CondGrashof(S,L,P,Q):\n",
    "#  if (S+L)<(P+Q):\n",
    "#    return print('Mecanismo Classe I')\n",
    "#  elif (S+L)>(P+Q):\n",
    "#   return print('Mecanismo Classe II')\n",
    "#  else:\n",
    "#    return print('Mecanismo Classe III')"
   ]
  },
  {
   "cell_type": "code",
   "execution_count": 55,
   "metadata": {},
   "outputs": [],
   "source": [
    "#a = float(input('a = '))"
   ]
  },
  {
   "cell_type": "code",
   "execution_count": 56,
   "metadata": {},
   "outputs": [],
   "source": [
    "#b = float(input('b = '))"
   ]
  },
  {
   "cell_type": "code",
   "execution_count": 57,
   "metadata": {},
   "outputs": [],
   "source": [
    "#c = float(input('c = '))"
   ]
  },
  {
   "cell_type": "code",
   "execution_count": 58,
   "metadata": {},
   "outputs": [],
   "source": [
    "#d = float(input('d = '))"
   ]
  },
  {
   "cell_type": "code",
   "execution_count": 59,
   "metadata": {
    "id": "fDb17gouT4vq"
   },
   "outputs": [],
   "source": [
    "#Para comodidade usual da linguagem, já que a biblioteca sympy utiliza as seguintes notações de forma maisúscula, fazemos:"
   ]
  },
  {
   "cell_type": "code",
   "execution_count": 60,
   "metadata": {
    "id": "jjXGhX-HT4vs",
    "scrolled": true
   },
   "outputs": [],
   "source": [
    "e = E\n",
    "i = I"
   ]
  },
  {
   "cell_type": "code",
   "execution_count": 61,
   "metadata": {
    "id": "Q_Cb4HjrT4vt"
   },
   "outputs": [],
   "source": [
    "#A partir da nossa equação vetorial da malha fechada, obtemos a mesma equação, só que em forma de números complexos:"
   ]
  },
  {
   "cell_type": "code",
   "execution_count": 62,
   "metadata": {
    "colab": {
     "base_uri": "https://localhost:8080/",
     "height": 39
    },
    "id": "uATrLfXaT4vu",
    "outputId": "cc515606-c320-41c7-f489-e77addb708e1"
   },
   "outputs": [],
   "source": [
    "eq1 = a*e**(i*theta2) + b*e**(i*theta3) - c*e**(i*theta4) - d*e**(i*theta1)\n",
    "#eq1"
   ]
  },
  {
   "cell_type": "code",
   "execution_count": 63,
   "metadata": {
    "id": "jaHbFtSNRxOi"
   },
   "outputs": [],
   "source": [
    "#Em primeiro lugar queremos encontrar $ω_3$ e $ω_4$, então derivamos então a equação 1 em relação ao tempo."
   ]
  },
  {
   "cell_type": "code",
   "execution_count": 64,
   "metadata": {
    "colab": {
     "base_uri": "https://localhost:8080/",
     "height": 52
    },
    "id": "TddUcBznShpe",
    "outputId": "2c698614-6837-4aca-9fdd-b30fa4147ca9"
   },
   "outputs": [],
   "source": [
    "eq2 = eq1.diff(t)\n",
    "#eq2"
   ]
  },
  {
   "cell_type": "code",
   "execution_count": 65,
   "metadata": {
    "id": "_TVjAoXdfqdc"
   },
   "outputs": [],
   "source": [
    "#Agora substituímos as derivadas de $θ_2$, $θ_3$ e $θ_4$ no tempo por $w_2$, $w_3$ e $w_4$, respectivamente."
   ]
  },
  {
   "cell_type": "code",
   "execution_count": 66,
   "metadata": {
    "id": "4nY7Vr5OS5ty"
   },
   "outputs": [],
   "source": [
    "omega2,omega3,omega4 = symbols('omega2 omega3 omega4')"
   ]
  },
  {
   "cell_type": "code",
   "execution_count": 67,
   "metadata": {
    "colab": {
     "base_uri": "https://localhost:8080/"
    },
    "id": "jXYPZzQ5S-wV",
    "outputId": "8536e944-ce17-4006-f4aa-28bbfc0b4324"
   },
   "outputs": [],
   "source": [
    "dict_omegas = {theta2.diff(t):omega2,theta3.diff(t):omega3,theta4.diff(t):omega4}\n",
    "#dict_omegas"
   ]
  },
  {
   "cell_type": "code",
   "execution_count": 68,
   "metadata": {
    "id": "ooULf1zbgNbI"
   },
   "outputs": [],
   "source": [
    "#Substituindo os valores desse dicionário na equação 2, obtemos:"
   ]
  },
  {
   "cell_type": "code",
   "execution_count": 69,
   "metadata": {
    "colab": {
     "base_uri": "https://localhost:8080/",
     "height": 39
    },
    "id": "8TA3ZtTMS_e-",
    "outputId": "cff59976-43fc-49db-a8ae-07111b28b247"
   },
   "outputs": [],
   "source": [
    "eq2 = eq2.subs(dict_omegas)\n",
    "#eq2"
   ]
  },
  {
   "cell_type": "code",
   "execution_count": 70,
   "metadata": {
    "id": "SmGrP5P9TQXI"
   },
   "outputs": [],
   "source": [
    "#Temos definido então que:\\\n",
    "#\\\n",
    "#$V_A = iaω_2eiθ_2$\\\n",
    "#$V_BA = ibω_3eiθ_3$\\\n",
    "#$V_B = icω_4eiθ_4$"
   ]
  },
  {
   "cell_type": "code",
   "execution_count": 71,
   "metadata": {
    "id": "yewmpIaHhquP"
   },
   "outputs": [],
   "source": [
    "#Definimos então estas variáveis:"
   ]
  },
  {
   "cell_type": "code",
   "execution_count": 72,
   "metadata": {
    "id": "RvKxlXLkTVNw"
   },
   "outputs": [],
   "source": [
    "V_A = i*a*omega2*e**(i*theta2)\n",
    "V_BA = i*b*omega3*e**(i*theta3)\n",
    "V_B = i*c*omega4*e**(i*theta4)"
   ]
  },
  {
   "cell_type": "code",
   "execution_count": 73,
   "metadata": {
    "id": "MVbwDLuQh2SR"
   },
   "outputs": [],
   "source": [
    "#Declaramos a identidade de Euler atráves de um dicionário para posterior substituição."
   ]
  },
  {
   "cell_type": "code",
   "execution_count": 74,
   "metadata": {
    "id": "sKivv5zdTlms"
   },
   "outputs": [],
   "source": [
    "id_euler = {e**(i*theta2): cos(theta2) + i*sin(theta2),\n",
    "            e**(i*theta3): cos(theta3) + i*sin(theta3),\n",
    "            e**(i*theta4): cos(theta4) + i*sin(theta4)}"
   ]
  },
  {
   "cell_type": "code",
   "execution_count": 75,
   "metadata": {
    "id": "iY2H30YGiIsG"
   },
   "outputs": [],
   "source": [
    "#A equação 3 será o resultado da substituição da identidade de Euler na equação 2."
   ]
  },
  {
   "cell_type": "code",
   "execution_count": 76,
   "metadata": {
    "colab": {
     "base_uri": "https://localhost:8080/",
     "height": 38
    },
    "id": "qQHok7eSaxPy",
    "outputId": "029b2255-4aab-49f4-deb8-07d3c637cdfe"
   },
   "outputs": [],
   "source": [
    "eq3 = eq2.subs(id_euler)\n",
    "#eq3"
   ]
  },
  {
   "cell_type": "code",
   "execution_count": 77,
   "metadata": {
    "id": "GuNW0A9ciqeg"
   },
   "outputs": [],
   "source": [
    "#Expandimos a equação 3:"
   ]
  },
  {
   "cell_type": "code",
   "execution_count": 78,
   "metadata": {
    "colab": {
     "base_uri": "https://localhost:8080/",
     "height": 38
    },
    "id": "3MiS8OP5b1IC",
    "outputId": "634c582f-964f-4160-a6c7-20e13487e493"
   },
   "outputs": [],
   "source": [
    "eq3 = eq3.expand()\n",
    "#eq3"
   ]
  },
  {
   "cell_type": "code",
   "execution_count": 79,
   "metadata": {
    "id": "GUUXw0qBi7Cj"
   },
   "outputs": [],
   "source": [
    "#Agora, separamos a parte real presente na equação 3, substituindo os valores imaginários por zero."
   ]
  },
  {
   "cell_type": "code",
   "execution_count": 80,
   "metadata": {
    "colab": {
     "base_uri": "https://localhost:8080/",
     "height": 38
    },
    "id": "KDr8ZecgUFc4",
    "outputId": "fed94167-4330-472b-bee5-6beefa004d94"
   },
   "outputs": [],
   "source": [
    "eq3_real = eq3.subs(i,0)\n",
    "#eq3_real"
   ]
  },
  {
   "cell_type": "code",
   "execution_count": 81,
   "metadata": {
    "id": "Q_N6fqqnjabw"
   },
   "outputs": [],
   "source": [
    "#E separamos a parte imaginária presente na equação 3, subtraindo da equação 3 a parte real presente, restando então a parte imaginária, sendo esta substituída por $i = 1$."
   ]
  },
  {
   "cell_type": "code",
   "execution_count": 82,
   "metadata": {
    "colab": {
     "base_uri": "https://localhost:8080/",
     "height": 38
    },
    "id": "FVifkeCXUe6P",
    "outputId": "a0d36d32-2399-4b81-9012-b02c7e6c504a"
   },
   "outputs": [],
   "source": [
    "eq3_im = (eq3 - eq3_real).subs(i,1)\n",
    "#eq3_im"
   ]
  },
  {
   "cell_type": "code",
   "execution_count": 83,
   "metadata": {
    "id": "FzVjjv7nj7s9"
   },
   "outputs": [],
   "source": [
    "#Calculamos então a solução para os valores de $w_3$ e $w_4$, a partir da equação real e imaginária obtidas anteriormente."
   ]
  },
  {
   "cell_type": "code",
   "execution_count": 84,
   "metadata": {
    "colab": {
     "base_uri": "https://localhost:8080/"
    },
    "id": "lzzxlVdEUjmf",
    "outputId": "37c5e5e3-e2ce-4294-eeef-5497d47da981"
   },
   "outputs": [],
   "source": [
    "sol_omegas = solve([eq3_im,eq3_real],omega3,omega4)\n",
    "#sol_omegas"
   ]
  },
  {
   "cell_type": "markdown",
   "metadata": {
    "id": "Cl4vt_LDWDbI"
   },
   "source": [
    "#### Velocidades lineares:"
   ]
  },
  {
   "cell_type": "code",
   "execution_count": 85,
   "metadata": {
    "id": "ADdjK5cB6VvA"
   },
   "outputs": [],
   "source": [
    "#Substituindo as soluções de $w_3$ e $w_4$ nas equações de velocidade $V_A$, $V_BA$ e $V_B$, obtemos as velocidades lineares do nosso mecanismo."
   ]
  },
  {
   "cell_type": "code",
   "execution_count": 86,
   "metadata": {},
   "outputs": [],
   "source": [
    "#V_A,V_BA,V_B = symbols('V_A V_BA V_B')"
   ]
  },
  {
   "cell_type": "code",
   "execution_count": 87,
   "metadata": {},
   "outputs": [
    {
     "data": {
      "text/latex": [
       "$\\displaystyle \\text{True}$"
      ],
      "text/plain": [
       "True"
      ]
     },
     "execution_count": 87,
     "metadata": {},
     "output_type": "execute_result"
    }
   ],
   "source": [
    "Eq(V_A,V_A.subs(sol_omegas))"
   ]
  },
  {
   "cell_type": "code",
   "execution_count": 88,
   "metadata": {
    "colab": {
     "base_uri": "https://localhost:8080/",
     "height": 39
    },
    "id": "8yhRksaFWHZG",
    "outputId": "417eec96-3835-4e3f-9e46-4ef4e5997162"
   },
   "outputs": [
    {
     "data": {
      "text/latex": [
       "$\\displaystyle i a \\omega_{2} e^{i \\theta_{2}{\\left(t \\right)}}$"
      ],
      "text/plain": [
       "I*a*omega2*exp(I*theta2(t))"
      ]
     },
     "execution_count": 88,
     "metadata": {},
     "output_type": "execute_result"
    }
   ],
   "source": [
    "V_A.subs(sol_omegas)"
   ]
  },
  {
   "cell_type": "code",
   "execution_count": 89,
   "metadata": {
    "colab": {
     "base_uri": "https://localhost:8080/",
     "height": 58
    },
    "id": "jK4sDydcWMV3",
    "outputId": "3004ab46-ec4a-485c-b67b-22b566f19fed"
   },
   "outputs": [
    {
     "data": {
      "text/latex": [
       "$\\displaystyle i b \\omega_{3} e^{i \\theta_{3}{\\left(t \\right)}} = i b \\left(\\frac{a \\omega_{2} \\sin{\\left(\\theta_{2}{\\left(t \\right)} \\right)} \\cos{\\left(\\theta_{4}{\\left(t \\right)} \\right)}}{- b \\sin{\\left(\\theta_{3}{\\left(t \\right)} \\right)} \\cos{\\left(\\theta_{4}{\\left(t \\right)} \\right)} + b \\sin{\\left(\\theta_{4}{\\left(t \\right)} \\right)} \\cos{\\left(\\theta_{3}{\\left(t \\right)} \\right)}} - \\frac{a \\omega_{2} \\sin{\\left(\\theta_{4}{\\left(t \\right)} \\right)} \\cos{\\left(\\theta_{2}{\\left(t \\right)} \\right)}}{- b \\sin{\\left(\\theta_{3}{\\left(t \\right)} \\right)} \\cos{\\left(\\theta_{4}{\\left(t \\right)} \\right)} + b \\sin{\\left(\\theta_{4}{\\left(t \\right)} \\right)} \\cos{\\left(\\theta_{3}{\\left(t \\right)} \\right)}}\\right) e^{i \\theta_{3}{\\left(t \\right)}}$"
      ],
      "text/plain": [
       "Eq(I*b*omega3*exp(I*theta3(t)), I*b*(a*omega2*sin(theta2(t))*cos(theta4(t))/(-b*sin(theta3(t))*cos(theta4(t)) + b*sin(theta4(t))*cos(theta3(t))) - a*omega2*sin(theta4(t))*cos(theta2(t))/(-b*sin(theta3(t))*cos(theta4(t)) + b*sin(theta4(t))*cos(theta3(t))))*exp(I*theta3(t)))"
      ]
     },
     "execution_count": 89,
     "metadata": {},
     "output_type": "execute_result"
    }
   ],
   "source": [
    "Eq(V_BA,V_BA.subs(sol_omegas))"
   ]
  },
  {
   "cell_type": "code",
   "execution_count": 90,
   "metadata": {
    "colab": {
     "base_uri": "https://localhost:8080/",
     "height": 58
    },
    "id": "mlg_rdm8WUqA",
    "outputId": "cf08fe48-58f6-4817-f67a-4d3b058e36e9"
   },
   "outputs": [
    {
     "data": {
      "text/latex": [
       "$\\displaystyle i c \\omega_{4} e^{i \\theta_{4}{\\left(t \\right)}} = i c \\left(\\frac{a \\omega_{2} \\sin{\\left(\\theta_{2}{\\left(t \\right)} \\right)} \\cos{\\left(\\theta_{3}{\\left(t \\right)} \\right)}}{- c \\sin{\\left(\\theta_{3}{\\left(t \\right)} \\right)} \\cos{\\left(\\theta_{4}{\\left(t \\right)} \\right)} + c \\sin{\\left(\\theta_{4}{\\left(t \\right)} \\right)} \\cos{\\left(\\theta_{3}{\\left(t \\right)} \\right)}} - \\frac{a \\omega_{2} \\sin{\\left(\\theta_{3}{\\left(t \\right)} \\right)} \\cos{\\left(\\theta_{2}{\\left(t \\right)} \\right)}}{- c \\sin{\\left(\\theta_{3}{\\left(t \\right)} \\right)} \\cos{\\left(\\theta_{4}{\\left(t \\right)} \\right)} + c \\sin{\\left(\\theta_{4}{\\left(t \\right)} \\right)} \\cos{\\left(\\theta_{3}{\\left(t \\right)} \\right)}}\\right) e^{i \\theta_{4}{\\left(t \\right)}}$"
      ],
      "text/plain": [
       "Eq(I*c*omega4*exp(I*theta4(t)), I*c*(a*omega2*sin(theta2(t))*cos(theta3(t))/(-c*sin(theta3(t))*cos(theta4(t)) + c*sin(theta4(t))*cos(theta3(t))) - a*omega2*sin(theta3(t))*cos(theta2(t))/(-c*sin(theta3(t))*cos(theta4(t)) + c*sin(theta4(t))*cos(theta3(t))))*exp(I*theta4(t)))"
      ]
     },
     "execution_count": 90,
     "metadata": {},
     "output_type": "execute_result"
    }
   ],
   "source": [
    "Eq(V_B,V_B.subs(sol_omegas))"
   ]
  },
  {
   "cell_type": "markdown",
   "metadata": {
    "id": "F88ic80-UymS"
   },
   "source": [
    "#### Velocidades angulares:"
   ]
  },
  {
   "cell_type": "code",
   "execution_count": 91,
   "metadata": {
    "id": "KtqEHv_P5icH"
   },
   "outputs": [],
   "source": [
    "#Isolamos então a soluções de $w_3$ e $w_4$ em função de $w_2$, obtendo assim, as velocidades angulares do nosso mecanismo."
   ]
  },
  {
   "cell_type": "code",
   "execution_count": 92,
   "metadata": {
    "colab": {
     "base_uri": "https://localhost:8080/",
     "height": 57
    },
    "id": "5Ux62I7WUyNp",
    "outputId": "c71d59a2-3c12-4c78-a46c-1015b4e2c5eb"
   },
   "outputs": [
    {
     "data": {
      "text/latex": [
       "$\\displaystyle \\omega_{3} = \\frac{a \\omega_{2} \\sin{\\left(\\theta_{2}{\\left(t \\right)} \\right)} \\cos{\\left(\\theta_{4}{\\left(t \\right)} \\right)}}{- b \\sin{\\left(\\theta_{3}{\\left(t \\right)} \\right)} \\cos{\\left(\\theta_{4}{\\left(t \\right)} \\right)} + b \\sin{\\left(\\theta_{4}{\\left(t \\right)} \\right)} \\cos{\\left(\\theta_{3}{\\left(t \\right)} \\right)}} - \\frac{a \\omega_{2} \\sin{\\left(\\theta_{4}{\\left(t \\right)} \\right)} \\cos{\\left(\\theta_{2}{\\left(t \\right)} \\right)}}{- b \\sin{\\left(\\theta_{3}{\\left(t \\right)} \\right)} \\cos{\\left(\\theta_{4}{\\left(t \\right)} \\right)} + b \\sin{\\left(\\theta_{4}{\\left(t \\right)} \\right)} \\cos{\\left(\\theta_{3}{\\left(t \\right)} \\right)}}$"
      ],
      "text/plain": [
       "Eq(omega3, a*omega2*sin(theta2(t))*cos(theta4(t))/(-b*sin(theta3(t))*cos(theta4(t)) + b*sin(theta4(t))*cos(theta3(t))) - a*omega2*sin(theta4(t))*cos(theta2(t))/(-b*sin(theta3(t))*cos(theta4(t)) + b*sin(theta4(t))*cos(theta3(t))))"
      ]
     },
     "execution_count": 92,
     "metadata": {},
     "output_type": "execute_result"
    }
   ],
   "source": [
    "Eq(omega3,sol_omegas[omega3])"
   ]
  },
  {
   "cell_type": "code",
   "execution_count": 93,
   "metadata": {
    "colab": {
     "base_uri": "https://localhost:8080/",
     "height": 57
    },
    "id": "pStGm1rbU37c",
    "outputId": "200f795a-1a67-416f-b77d-9bdb96628531"
   },
   "outputs": [
    {
     "data": {
      "text/latex": [
       "$\\displaystyle \\omega_{4} = \\frac{a \\omega_{2} \\sin{\\left(\\theta_{2}{\\left(t \\right)} \\right)} \\cos{\\left(\\theta_{3}{\\left(t \\right)} \\right)}}{- c \\sin{\\left(\\theta_{3}{\\left(t \\right)} \\right)} \\cos{\\left(\\theta_{4}{\\left(t \\right)} \\right)} + c \\sin{\\left(\\theta_{4}{\\left(t \\right)} \\right)} \\cos{\\left(\\theta_{3}{\\left(t \\right)} \\right)}} - \\frac{a \\omega_{2} \\sin{\\left(\\theta_{3}{\\left(t \\right)} \\right)} \\cos{\\left(\\theta_{2}{\\left(t \\right)} \\right)}}{- c \\sin{\\left(\\theta_{3}{\\left(t \\right)} \\right)} \\cos{\\left(\\theta_{4}{\\left(t \\right)} \\right)} + c \\sin{\\left(\\theta_{4}{\\left(t \\right)} \\right)} \\cos{\\left(\\theta_{3}{\\left(t \\right)} \\right)}}$"
      ],
      "text/plain": [
       "Eq(omega4, a*omega2*sin(theta2(t))*cos(theta3(t))/(-c*sin(theta3(t))*cos(theta4(t)) + c*sin(theta4(t))*cos(theta3(t))) - a*omega2*sin(theta3(t))*cos(theta2(t))/(-c*sin(theta3(t))*cos(theta4(t)) + c*sin(theta4(t))*cos(theta3(t))))"
      ]
     },
     "execution_count": 93,
     "metadata": {},
     "output_type": "execute_result"
    }
   ],
   "source": [
    "Eq(omega4,sol_omegas[omega4])"
   ]
  },
  {
   "cell_type": "code",
   "execution_count": 94,
   "metadata": {
    "id": "oT2Cnb5kX6vf"
   },
   "outputs": [],
   "source": [
    "#Definindo as soluções de $θ_3$ e $θ_4$, obtemos:"
   ]
  },
  {
   "cell_type": "markdown",
   "metadata": {},
   "source": [
    "#### Os ângulos:"
   ]
  },
  {
   "cell_type": "code",
   "execution_count": 95,
   "metadata": {
    "colab": {
     "base_uri": "https://localhost:8080/",
     "height": 101
    },
    "id": "u-kRxzRNX7eW",
    "outputId": "61e8b7e6-4687-4626-f9b1-1784992230b4"
   },
   "outputs": [
    {
     "data": {
      "text/latex": [
       "$\\displaystyle \\theta_{3}{\\left(t \\right)} = - 2 \\operatorname{atan}{\\left(\\frac{2 a b \\sin{\\left(\\theta_{2}{\\left(t \\right)} \\right)} - \\sqrt{- a^{4} + 4 a^{3} d \\cos{\\left(\\theta_{2}{\\left(t \\right)} \\right)} + 4 a^{2} b^{2} \\sin^{2}{\\left(\\theta_{2}{\\left(t \\right)} \\right)} + 4 a^{2} b^{2} \\cos^{2}{\\left(\\theta_{2}{\\left(t \\right)} \\right)} - 2 a^{2} b^{2} + 2 a^{2} c^{2} - 4 a^{2} d^{2} \\cos^{2}{\\left(\\theta_{2}{\\left(t \\right)} \\right)} - 2 a^{2} d^{2} - 4 a b^{2} d \\cos{\\left(\\theta_{2}{\\left(t \\right)} \\right)} - 4 a c^{2} d \\cos{\\left(\\theta_{2}{\\left(t \\right)} \\right)} + 4 a d^{3} \\cos{\\left(\\theta_{2}{\\left(t \\right)} \\right)} - b^{4} + 2 b^{2} c^{2} + 2 b^{2} d^{2} - c^{4} + 2 c^{2} d^{2} - d^{4}}}{a^{2} - 2 a b \\cos{\\left(\\theta_{2}{\\left(t \\right)} \\right)} - 2 a d \\cos{\\left(\\theta_{2}{\\left(t \\right)} \\right)} + b^{2} + 2 b d - c^{2} + d^{2}} \\right)}$"
      ],
      "text/plain": [
       "Eq(theta3(t), -2*atan((2*a*b*sin(theta2(t)) - sqrt(-a**4 + 4*a**3*d*cos(theta2(t)) + 4*a**2*b**2*sin(theta2(t))**2 + 4*a**2*b**2*cos(theta2(t))**2 - 2*a**2*b**2 + 2*a**2*c**2 - 4*a**2*d**2*cos(theta2(t))**2 - 2*a**2*d**2 - 4*a*b**2*d*cos(theta2(t)) - 4*a*c**2*d*cos(theta2(t)) + 4*a*d**3*cos(theta2(t)) - b**4 + 2*b**2*c**2 + 2*b**2*d**2 - c**4 + 2*c**2*d**2 - d**4))/(a**2 - 2*a*b*cos(theta2(t)) - 2*a*d*cos(theta2(t)) + b**2 + 2*b*d - c**2 + d**2)))"
      ]
     },
     "execution_count": 95,
     "metadata": {},
     "output_type": "execute_result"
    }
   ],
   "source": [
    "sol_theta3 = -2*atan((2*a*b*sin(theta2) - sqrt(-a**4 + 4*a**3*d*cos(theta2) + 4*a**2*b**2*sin(theta2)**2 +\n",
    "4*a**2*b**2*cos(theta2)**2 - 2*a**2*b**2 + 2*a**2*c**2 - 4*a**2*d**2*cos(theta2)**2 - 2*a**2*d**2 - \n",
    "4*a*b**2*d*cos(theta2) - 4*a*c**2*d*cos(theta2) + 4*a*d**3*cos(theta2) - b**4 + 2*b**2*c**2 + \n",
    "2*b**2*d**2 - c**4 + 2*c**2*d**2 - d**4))/(a**2 - 2*a*b*cos(theta2) - 2*a*d*cos(theta2) + b**2 + 2*b*d - c**2 + d**2))\n",
    "Eq(theta3,sol_theta3)\n"
   ]
  },
  {
   "cell_type": "code",
   "execution_count": 96,
   "metadata": {
    "colab": {
     "base_uri": "https://localhost:8080/",
     "height": 101
    },
    "id": "YgDSaQw9YFeJ",
    "outputId": "9b56f331-d78b-40b5-a857-2b441699bfaa"
   },
   "outputs": [
    {
     "data": {
      "text/latex": [
       "$\\displaystyle \\theta_{4}{\\left(t \\right)} = 2 \\operatorname{atan}{\\left(\\frac{2 a c \\sin{\\left(\\theta_{2}{\\left(t \\right)} \\right)} - \\sqrt{- a^{4} + 4 a^{3} d \\cos{\\left(\\theta_{2}{\\left(t \\right)} \\right)} + 2 a^{2} b^{2} + 4 a^{2} c^{2} \\sin^{2}{\\left(\\theta_{2}{\\left(t \\right)} \\right)} + 4 a^{2} c^{2} \\cos^{2}{\\left(\\theta_{2}{\\left(t \\right)} \\right)} - 2 a^{2} c^{2} - 4 a^{2} d^{2} \\cos^{2}{\\left(\\theta_{2}{\\left(t \\right)} \\right)} - 2 a^{2} d^{2} - 4 a b^{2} d \\cos{\\left(\\theta_{2}{\\left(t \\right)} \\right)} - 4 a c^{2} d \\cos{\\left(\\theta_{2}{\\left(t \\right)} \\right)} + 4 a d^{3} \\cos{\\left(\\theta_{2}{\\left(t \\right)} \\right)} - b^{4} + 2 b^{2} c^{2} + 2 b^{2} d^{2} - c^{4} + 2 c^{2} d^{2} - d^{4}}}{a^{2} + 2 a c \\cos{\\left(\\theta_{2}{\\left(t \\right)} \\right)} - 2 a d \\cos{\\left(\\theta_{2}{\\left(t \\right)} \\right)} - b^{2} + c^{2} - 2 c d + d^{2}} \\right)}$"
      ],
      "text/plain": [
       "Eq(theta4(t), 2*atan((2*a*c*sin(theta2(t)) - sqrt(-a**4 + 4*a**3*d*cos(theta2(t)) + 2*a**2*b**2 + 4*a**2*c**2*sin(theta2(t))**2 + 4*a**2*c**2*cos(theta2(t))**2 - 2*a**2*c**2 - 4*a**2*d**2*cos(theta2(t))**2 - 2*a**2*d**2 - 4*a*b**2*d*cos(theta2(t)) - 4*a*c**2*d*cos(theta2(t)) + 4*a*d**3*cos(theta2(t)) - b**4 + 2*b**2*c**2 + 2*b**2*d**2 - c**4 + 2*c**2*d**2 - d**4))/(a**2 + 2*a*c*cos(theta2(t)) - 2*a*d*cos(theta2(t)) - b**2 + c**2 - 2*c*d + d**2)))"
      ]
     },
     "execution_count": 96,
     "metadata": {},
     "output_type": "execute_result"
    }
   ],
   "source": [
    "sol_theta4 = 2*atan((2*a*c*sin(theta2) - sqrt(-a**4 + 4*a**3*d*cos(theta2) + 2*a**2*b**2 + 4*a**2*c**2*sin(theta2)**2 +\n",
    "4*a**2*c**2*cos(theta2)**2 - 2*a**2*c**2 - 4*a**2*d**2*cos(theta2)**2 - 2*a**2*d**2 - 4*a*b**2*d*cos(theta2) - \n",
    "4*a*c**2*d*cos(theta2) + 4*a*d**3*cos(theta2) - b**4 + 2*b**2*c**2 + 2*b**2*d**2 - c**4 + 2*c**2*d**2 - d**4))/(a**2 + 2*a*c*cos(theta2) - \n",
    "2*a*d*cos(theta2) - b**2 + c**2 - 2*c*d + d**2))\n",
    "Eq(theta4,sol_theta4)"
   ]
  },
  {
   "cell_type": "code",
   "execution_count": 97,
   "metadata": {
    "id": "1UAB_afWYlNd"
   },
   "outputs": [],
   "source": [
    "elos = {a: 300, b: 500, c: 300, d: 500}"
   ]
  },
  {
   "cell_type": "code",
   "execution_count": 98,
   "metadata": {},
   "outputs": [],
   "source": [
    "#pip install voila"
   ]
  },
  {
   "cell_type": "code",
   "execution_count": 99,
   "metadata": {},
   "outputs": [],
   "source": [
    "#pip show voila"
   ]
  },
  {
   "cell_type": "code",
   "execution_count": 100,
   "metadata": {},
   "outputs": [],
   "source": [
    "# Imports for JupyterLite\n",
    "try:\n",
    "    import piplite\n",
    "    await piplite.install(['ipywidgets'])\n",
    "except ImportError:\n",
    "    pass"
   ]
  },
  {
   "cell_type": "code",
   "execution_count": 101,
   "metadata": {},
   "outputs": [
    {
     "data": {
      "application/vnd.jupyter.widget-view+json": {
       "model_id": "5d482ade564b4d9e9e1760b531b63620",
       "version_major": 2,
       "version_minor": 0
      },
      "text/plain": [
       "FloatText(value=0.0, description='Elo 1:')"
      ]
     },
     "metadata": {},
     "output_type": "display_data"
    }
   ],
   "source": [
    "from ipywidgets import widgets\n",
    "widgets.FloatText(\n",
    "    value=0.0,\n",
    "    description='Elo 1:',\n",
    "    disabled=False)"
   ]
  },
  {
   "cell_type": "code",
   "execution_count": 102,
   "metadata": {},
   "outputs": [
    {
     "data": {
      "application/vnd.jupyter.widget-view+json": {
       "model_id": "8b3362dd22c84d8bb3430738ceb541bc",
       "version_major": 2,
       "version_minor": 0
      },
      "text/plain": [
       "Button(button_style='success', description='Ok', icon='check', style=ButtonStyle())"
      ]
     },
     "metadata": {},
     "output_type": "display_data"
    }
   ],
   "source": [
    "widgets.Button(\n",
    "description='Ok',\n",
    "button_style='success',\n",
    "icon='check',\n",
    "tooltip='')"
   ]
  }
 ],
 "metadata": {
  "colab": {
   "collapsed_sections": [],
   "name": "Análise de velocidade.ipynb",
   "provenance": []
  },
  "kernelspec": {
   "display_name": "Python 3 (ipykernel)",
   "language": "python",
   "name": "python3"
  },
  "language_info": {
   "codemirror_mode": {
    "name": "ipython",
    "version": 3
   },
   "file_extension": ".py",
   "mimetype": "text/x-python",
   "name": "python",
   "nbconvert_exporter": "python",
   "pygments_lexer": "ipython3",
   "version": "3.9.12"
  }
 },
 "nbformat": 4,
 "nbformat_minor": 1
}
